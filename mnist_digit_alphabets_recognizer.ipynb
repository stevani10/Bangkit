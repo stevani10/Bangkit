{
  "nbformat": 4,
  "nbformat_minor": 0,
  "metadata": {
    "kernelspec": {
      "display_name": "Python 3",
      "language": "python",
      "name": "python3"
    },
    "language_info": {
      "codemirror_mode": {
        "name": "ipython",
        "version": 3
      },
      "file_extension": ".py",
      "mimetype": "text/x-python",
      "name": "python",
      "nbconvert_exporter": "python",
      "pygments_lexer": "ipython3",
      "version": "3.6.6"
    },
    "colab": {
      "name": "mnist-digit-alphabets-recognizer.ipynb",
      "provenance": []
    }
  },
  "cells": [
    {
      "cell_type": "markdown",
      "metadata": {
        "id": "dTVj8YL5Ve_0"
      },
      "source": [
        "![](https://camo.githubusercontent.com/d440ac2eee1cb3ea33340a2c5f6f15a0878e9275/687474703a2f2f692e7974696d672e636f6d2f76692f3051493378675875422d512f687164656661756c742e6a7067)\n",
        "\n",
        "Hey, hope you are doing well and fine.\n",
        "\n",
        "In this notebook, we will be adding both the MNIST and Alphabets dataset and train a model on them together. So, for this classification, we will have 36 classes in total, 10 for digits and 26 for alphabets.\n",
        "\n",
        "We will be using Keras API in this notebook.\n",
        "\n",
        "I will try to keep it simple and beginner friendly, if you have any suggestions regarding improving the notebook, please leave a comment at the end of it. If you like the work, do appreciate in the way you like! :)\n",
        "\n",
        "So, now, without telling more about what to come in this notebook, let's just dive right into it."
      ]
    },
    {
      "cell_type": "markdown",
      "metadata": {
        "id": "eIOokjc7Ve_3"
      },
      "source": [
        "## Importing essential libraries"
      ]
    },
    {
      "cell_type": "code",
      "metadata": {
        "_cell_guid": "79c7e3d0-c299-4dcb-8224-4455121ee9b0",
        "_uuid": "d629ff2d2480ee46fbb7e2d37f6b5fab8052498a",
        "id": "4xs9PZH9Ve_4"
      },
      "source": [
        "import pandas as pd\n",
        "import numpy as np\n",
        "import os\n",
        "\n",
        "from sklearn.model_selection import train_test_split\n",
        "from sklearn import metrics\n",
        "\n",
        "import matplotlib.pyplot as plt\n",
        "%matplotlib inline\n",
        "import seaborn as sns\n",
        "sns.set(style = \"darkgrid\")\n",
        "\n",
        "import gc\n",
        "\n",
        "import keras\n",
        "from keras.utils.np_utils import to_categorical\n",
        "from keras import backend as K\n",
        "from keras.models import Sequential\n",
        "from keras.layers import Dense, Flatten, Dropout, MaxPool2D, Conv2D\n",
        "from keras.callbacks import ReduceLROnPlateau, EarlyStopping\n",
        "from keras.optimizers import Adam\n",
        "from keras.layers.normalization import BatchNormalization\n",
        "from keras.preprocessing.image import ImageDataGenerator\n",
        "from keras.models import load_model\n",
        "\n",
        "import tensorflow as tf\n",
        "\n",
        "import warnings\n",
        "warnings.filterwarnings(\"ignore\")\n",
        "\n",
        "import cv2"
      ],
      "execution_count": null,
      "outputs": []
    },
    {
      "cell_type": "markdown",
      "metadata": {
        "id": "8XfJjloIVe_5"
      },
      "source": [
        "## Reading and Understanding data files"
      ]
    },
    {
      "cell_type": "markdown",
      "metadata": {
        "id": "0M-LQPtvVe_6"
      },
      "source": [
        "> We will be adding 10 to the target values of alphabet data, because 0-9 are already booked for digits and we don't want our model to confuse itself between \"A\" and \"0\" or \"B\" and \"1\" and so on, we will start the labels for alphabet targets from 10, so now, 0-9 will be digits and 10-35 will be alphabets."
      ]
    },
    {
      "cell_type": "code",
      "source": [
        "df_num = pd.read_csv(\"../input/train-digit-recognition-mnist/mnist_train.csv\")\n",
        "df_alph = pd.read_csv(\"../input/az-handwritten-alphabets-in-csv-format/A_Z Handwritten Data/A_Z Handwritten Data.csv\")\n",
        "df_alph[\"0\"] += 10"
      ],
      "metadata": {
        "id": "bQz8pdTbkO7k"
      },
      "execution_count": null,
      "outputs": []
    },
    {
      "cell_type": "markdown",
      "metadata": {
        "id": "qDKwteCEVe_7"
      },
      "source": [
        "> Shape of both dataframes."
      ]
    },
    {
      "cell_type": "code",
      "metadata": {
        "id": "ZY5PxqMrVe_7",
        "outputId": "46de4b8a-2405-4a1f-afd6-ee596c77343d"
      },
      "source": [
        "df_num.shape, df_alph.shape"
      ],
      "execution_count": null,
      "outputs": [
        {
          "output_type": "execute_result",
          "data": {
            "text/plain": [
              "((59999, 785), (372450, 785))"
            ]
          },
          "metadata": {
            "tags": []
          },
          "execution_count": 3
        }
      ]
    },
    {
      "cell_type": "markdown",
      "metadata": {
        "id": "meEh8YbJVe_8"
      },
      "source": [
        "> So we can see that we have 60000 samples for numerals and 3,72,450 samples for alphabets."
      ]
    },
    {
      "cell_type": "markdown",
      "metadata": {
        "id": "og3RZ1ufVe_8"
      },
      "source": [
        "> Let's now see some of the data samples."
      ]
    },
    {
      "cell_type": "code",
      "metadata": {
        "id": "goPXXo_BVe_8",
        "outputId": "e66a894b-7bb9-4ea7-dfba-2a2b7c30fc84"
      },
      "source": [
        "df_num.head(3)"
      ],
      "execution_count": null,
      "outputs": [
        {
          "output_type": "execute_result",
          "data": {
            "text/html": [
              "<div>\n",
              "<style scoped>\n",
              "    .dataframe tbody tr th:only-of-type {\n",
              "        vertical-align: middle;\n",
              "    }\n",
              "\n",
              "    .dataframe tbody tr th {\n",
              "        vertical-align: top;\n",
              "    }\n",
              "\n",
              "    .dataframe thead th {\n",
              "        text-align: right;\n",
              "    }\n",
              "</style>\n",
              "<table border=\"1\" class=\"dataframe\">\n",
              "  <thead>\n",
              "    <tr style=\"text-align: right;\">\n",
              "      <th></th>\n",
              "      <th>5</th>\n",
              "      <th>0</th>\n",
              "      <th>0.1</th>\n",
              "      <th>0.2</th>\n",
              "      <th>0.3</th>\n",
              "      <th>0.4</th>\n",
              "      <th>0.5</th>\n",
              "      <th>0.6</th>\n",
              "      <th>0.7</th>\n",
              "      <th>0.8</th>\n",
              "      <th>...</th>\n",
              "      <th>0.608</th>\n",
              "      <th>0.609</th>\n",
              "      <th>0.610</th>\n",
              "      <th>0.611</th>\n",
              "      <th>0.612</th>\n",
              "      <th>0.613</th>\n",
              "      <th>0.614</th>\n",
              "      <th>0.615</th>\n",
              "      <th>0.616</th>\n",
              "      <th>0.617</th>\n",
              "    </tr>\n",
              "  </thead>\n",
              "  <tbody>\n",
              "    <tr>\n",
              "      <td>0</td>\n",
              "      <td>0</td>\n",
              "      <td>0</td>\n",
              "      <td>0</td>\n",
              "      <td>0</td>\n",
              "      <td>0</td>\n",
              "      <td>0</td>\n",
              "      <td>0</td>\n",
              "      <td>0</td>\n",
              "      <td>0</td>\n",
              "      <td>0</td>\n",
              "      <td>...</td>\n",
              "      <td>0</td>\n",
              "      <td>0</td>\n",
              "      <td>0</td>\n",
              "      <td>0</td>\n",
              "      <td>0</td>\n",
              "      <td>0</td>\n",
              "      <td>0</td>\n",
              "      <td>0</td>\n",
              "      <td>0</td>\n",
              "      <td>0</td>\n",
              "    </tr>\n",
              "    <tr>\n",
              "      <td>1</td>\n",
              "      <td>4</td>\n",
              "      <td>0</td>\n",
              "      <td>0</td>\n",
              "      <td>0</td>\n",
              "      <td>0</td>\n",
              "      <td>0</td>\n",
              "      <td>0</td>\n",
              "      <td>0</td>\n",
              "      <td>0</td>\n",
              "      <td>0</td>\n",
              "      <td>...</td>\n",
              "      <td>0</td>\n",
              "      <td>0</td>\n",
              "      <td>0</td>\n",
              "      <td>0</td>\n",
              "      <td>0</td>\n",
              "      <td>0</td>\n",
              "      <td>0</td>\n",
              "      <td>0</td>\n",
              "      <td>0</td>\n",
              "      <td>0</td>\n",
              "    </tr>\n",
              "    <tr>\n",
              "      <td>2</td>\n",
              "      <td>1</td>\n",
              "      <td>0</td>\n",
              "      <td>0</td>\n",
              "      <td>0</td>\n",
              "      <td>0</td>\n",
              "      <td>0</td>\n",
              "      <td>0</td>\n",
              "      <td>0</td>\n",
              "      <td>0</td>\n",
              "      <td>0</td>\n",
              "      <td>...</td>\n",
              "      <td>0</td>\n",
              "      <td>0</td>\n",
              "      <td>0</td>\n",
              "      <td>0</td>\n",
              "      <td>0</td>\n",
              "      <td>0</td>\n",
              "      <td>0</td>\n",
              "      <td>0</td>\n",
              "      <td>0</td>\n",
              "      <td>0</td>\n",
              "    </tr>\n",
              "  </tbody>\n",
              "</table>\n",
              "<p>3 rows × 785 columns</p>\n",
              "</div>"
            ],
            "text/plain": [
              "   5  0  0.1  0.2  0.3  0.4  0.5  0.6  0.7  0.8  ...  0.608  0.609  0.610  \\\n",
              "0  0  0    0    0    0    0    0    0    0    0  ...      0      0      0   \n",
              "1  4  0    0    0    0    0    0    0    0    0  ...      0      0      0   \n",
              "2  1  0    0    0    0    0    0    0    0    0  ...      0      0      0   \n",
              "\n",
              "   0.611  0.612  0.613  0.614  0.615  0.616  0.617  \n",
              "0      0      0      0      0      0      0      0  \n",
              "1      0      0      0      0      0      0      0  \n",
              "2      0      0      0      0      0      0      0  \n",
              "\n",
              "[3 rows x 785 columns]"
            ]
          },
          "metadata": {
            "tags": []
          },
          "execution_count": 4
        }
      ]
    },
    {
      "cell_type": "code",
      "metadata": {
        "id": "3jUuFW10Ve_9",
        "outputId": "1c7214ef-4cca-49ca-8e45-42fb40b2bb25"
      },
      "source": [
        "df_alph.head(3)"
      ],
      "execution_count": null,
      "outputs": [
        {
          "output_type": "execute_result",
          "data": {
            "text/html": [
              "<div>\n",
              "<style scoped>\n",
              "    .dataframe tbody tr th:only-of-type {\n",
              "        vertical-align: middle;\n",
              "    }\n",
              "\n",
              "    .dataframe tbody tr th {\n",
              "        vertical-align: top;\n",
              "    }\n",
              "\n",
              "    .dataframe thead th {\n",
              "        text-align: right;\n",
              "    }\n",
              "</style>\n",
              "<table border=\"1\" class=\"dataframe\">\n",
              "  <thead>\n",
              "    <tr style=\"text-align: right;\">\n",
              "      <th></th>\n",
              "      <th>0</th>\n",
              "      <th>0.1</th>\n",
              "      <th>0.2</th>\n",
              "      <th>0.3</th>\n",
              "      <th>0.4</th>\n",
              "      <th>0.5</th>\n",
              "      <th>0.6</th>\n",
              "      <th>0.7</th>\n",
              "      <th>0.8</th>\n",
              "      <th>0.9</th>\n",
              "      <th>...</th>\n",
              "      <th>0.639</th>\n",
              "      <th>0.640</th>\n",
              "      <th>0.641</th>\n",
              "      <th>0.642</th>\n",
              "      <th>0.643</th>\n",
              "      <th>0.644</th>\n",
              "      <th>0.645</th>\n",
              "      <th>0.646</th>\n",
              "      <th>0.647</th>\n",
              "      <th>0.648</th>\n",
              "    </tr>\n",
              "  </thead>\n",
              "  <tbody>\n",
              "    <tr>\n",
              "      <td>0</td>\n",
              "      <td>10</td>\n",
              "      <td>0</td>\n",
              "      <td>0</td>\n",
              "      <td>0</td>\n",
              "      <td>0</td>\n",
              "      <td>0</td>\n",
              "      <td>0</td>\n",
              "      <td>0</td>\n",
              "      <td>0</td>\n",
              "      <td>0</td>\n",
              "      <td>...</td>\n",
              "      <td>0</td>\n",
              "      <td>0</td>\n",
              "      <td>0</td>\n",
              "      <td>0</td>\n",
              "      <td>0</td>\n",
              "      <td>0</td>\n",
              "      <td>0</td>\n",
              "      <td>0</td>\n",
              "      <td>0</td>\n",
              "      <td>0</td>\n",
              "    </tr>\n",
              "    <tr>\n",
              "      <td>1</td>\n",
              "      <td>10</td>\n",
              "      <td>0</td>\n",
              "      <td>0</td>\n",
              "      <td>0</td>\n",
              "      <td>0</td>\n",
              "      <td>0</td>\n",
              "      <td>0</td>\n",
              "      <td>0</td>\n",
              "      <td>0</td>\n",
              "      <td>0</td>\n",
              "      <td>...</td>\n",
              "      <td>0</td>\n",
              "      <td>0</td>\n",
              "      <td>0</td>\n",
              "      <td>0</td>\n",
              "      <td>0</td>\n",
              "      <td>0</td>\n",
              "      <td>0</td>\n",
              "      <td>0</td>\n",
              "      <td>0</td>\n",
              "      <td>0</td>\n",
              "    </tr>\n",
              "    <tr>\n",
              "      <td>2</td>\n",
              "      <td>10</td>\n",
              "      <td>0</td>\n",
              "      <td>0</td>\n",
              "      <td>0</td>\n",
              "      <td>0</td>\n",
              "      <td>0</td>\n",
              "      <td>0</td>\n",
              "      <td>0</td>\n",
              "      <td>0</td>\n",
              "      <td>0</td>\n",
              "      <td>...</td>\n",
              "      <td>0</td>\n",
              "      <td>0</td>\n",
              "      <td>0</td>\n",
              "      <td>0</td>\n",
              "      <td>0</td>\n",
              "      <td>0</td>\n",
              "      <td>0</td>\n",
              "      <td>0</td>\n",
              "      <td>0</td>\n",
              "      <td>0</td>\n",
              "    </tr>\n",
              "  </tbody>\n",
              "</table>\n",
              "<p>3 rows × 785 columns</p>\n",
              "</div>"
            ],
            "text/plain": [
              "    0  0.1  0.2  0.3  0.4  0.5  0.6  0.7  0.8  0.9  ...  0.639  0.640  0.641  \\\n",
              "0  10    0    0    0    0    0    0    0    0    0  ...      0      0      0   \n",
              "1  10    0    0    0    0    0    0    0    0    0  ...      0      0      0   \n",
              "2  10    0    0    0    0    0    0    0    0    0  ...      0      0      0   \n",
              "\n",
              "   0.642  0.643  0.644  0.645  0.646  0.647  0.648  \n",
              "0      0      0      0      0      0      0      0  \n",
              "1      0      0      0      0      0      0      0  \n",
              "2      0      0      0      0      0      0      0  \n",
              "\n",
              "[3 rows x 785 columns]"
            ]
          },
          "metadata": {
            "tags": []
          },
          "execution_count": 5
        }
      ]
    },
    {
      "cell_type": "markdown",
      "metadata": {
        "id": "It41Z82iVe_9"
      },
      "source": [
        "> Let's now change the column names and both the data and make them same so that joining them will be much easy.\n",
        "\n",
        "> What we are doing here is making column name as follows:\n",
        "> - Target -> Label\n",
        "> - Pixel value x -> pixel_x"
      ]
    },
    {
      "cell_type": "code",
      "metadata": {
        "id": "bsJgXnVpVe_9",
        "outputId": "0f564088-cbb3-454e-bbc7-f91552080dfb"
      },
      "source": [
        "pixel_array = [\"Label\"]\n",
        "for i in range(1, 785):\n",
        "    pixel_array.append(f\"pixel_{i}\")\n",
        "df_num.columns = pixel_array\n",
        "df_alph.columns = pixel_array\n",
        "del pixel_array\n",
        "gc.collect()"
      ],
      "execution_count": null,
      "outputs": [
        {
          "output_type": "execute_result",
          "data": {
            "text/plain": [
              "33"
            ]
          },
          "metadata": {
            "tags": []
          },
          "execution_count": 6
        }
      ]
    },
    {
      "cell_type": "markdown",
      "metadata": {
        "id": "RCboVtssVe_-"
      },
      "source": [
        "> Since both of our dataframes have same name for both the columns, we can now simply concat them!"
      ]
    },
    {
      "cell_type": "code",
      "metadata": {
        "id": "pxureAz6Ve_-",
        "outputId": "c26d1a76-0492-4ea3-9132-29f0741ff37f"
      },
      "source": [
        "df = pd.concat([df_num, df_alph], axis = 0)\n",
        "df.shape"
      ],
      "execution_count": null,
      "outputs": [
        {
          "output_type": "execute_result",
          "data": {
            "text/plain": [
              "(432449, 785)"
            ]
          },
          "metadata": {
            "tags": []
          },
          "execution_count": 7
        }
      ]
    },
    {
      "cell_type": "markdown",
      "metadata": {
        "id": "3z3-5X2AVe_-"
      },
      "source": [
        "> Let's set the value for seed too, so that reproducing the same work would be possible."
      ]
    },
    {
      "cell_type": "code",
      "metadata": {
        "id": "cORnRuN_Ve_-"
      },
      "source": [
        "SEED = 42\n",
        "np.random.seed(SEED)"
      ],
      "execution_count": null,
      "outputs": []
    },
    {
      "cell_type": "markdown",
      "metadata": {
        "id": "41tiH3ZCVe__"
      },
      "source": [
        "## Little Bit of Data Analysis"
      ]
    },
    {
      "cell_type": "markdown",
      "metadata": {
        "id": "IYBvCQwCVe__"
      },
      "source": [
        "> Now, let'see the distribution of data over all the classes."
      ]
    },
    {
      "cell_type": "code",
      "metadata": {
        "id": "q-1w2WgGVe__",
        "outputId": "1627cd86-2b3b-457b-d602-0306478babfe"
      },
      "source": [
        "plt.rcParams[\"figure.figsize\"] = [10, 8]\n",
        "df.Label.value_counts().plot(kind = \"bar\")\n",
        "plt.title(\"Target value distribution\")"
      ],
      "execution_count": null,
      "outputs": [
        {
          "output_type": "execute_result",
          "data": {
            "text/plain": [
              "Text(0.5, 1.0, 'Target value distribution')"
            ]
          },
          "metadata": {
            "tags": []
          },
          "execution_count": 9
        },
        {
          "output_type": "display_data",
          "data": {
            "image/png": "[encoded data removed]",
            "text/plain": [
              "<Figure size 720x576 with 1 Axes>"
            ]
          },
          "metadata": {
            "tags": [],
            "needs_background": "light"
          }
        }
      ]
    },
    {
      "cell_type": "markdown",
      "metadata": {
        "id": "UgDG2m2yVe__"
      },
      "source": [
        "> Although the MNIST data is all perfectly balanced, the other data i.e. Alphabetical data is very highly unbalanced."
      ]
    },
    {
      "cell_type": "markdown",
      "metadata": {
        "id": "38FRD7tCVfAA"
      },
      "source": [
        "> Let's now see the count of maximum and minimum frequency labels."
      ]
    },
    {
      "cell_type": "code",
      "metadata": {
        "id": "0juQYm5fVfAA",
        "outputId": "7804b0ff-baab-4096-f39e-32472070c74b"
      },
      "source": [
        "a, b = df.Label[df.Label == 24].value_counts().sum(), df.Label[df.Label == 18].value_counts().sum()\n",
        "print(f\"Maximum and Minimum frequency for any target value in the data: {a, b}\")"
      ],
      "execution_count": null,
      "outputs": [
        {
          "output_type": "stream",
          "text": [
            "Maximum and Minimum frequency for any target value in the data: (57825, 1120)\n"
          ],
          "name": "stdout"
        }
      ]
    },
    {
      "cell_type": "markdown",
      "metadata": {
        "id": "0Tmb58NQVfAA"
      },
      "source": [
        "> 57,825 for the majority class and 1120 for minority!!\n",
        "\n",
        "> Since the data is now unbalanced, we will have to choose our metric wisely, otherwise, we may get fooled by the accuracy, although we will keep an eye out for accuracy too! ;)"
      ]
    },
    {
      "cell_type": "markdown",
      "metadata": {
        "id": "cVKlmPVkVfAA"
      },
      "source": [
        "> Now let's divide the data into features and target."
      ]
    },
    {
      "cell_type": "code",
      "metadata": {
        "id": "6MW2ICWGVfAA",
        "outputId": "4603d87f-1be5-48f5-9b7a-981668c0084d"
      },
      "source": [
        "X = df.drop([\"Label\"], axis = 1)\n",
        "y = df[\"Label\"]\n",
        "X.shape"
      ],
      "execution_count": null,
      "outputs": [
        {
          "output_type": "execute_result",
          "data": {
            "text/plain": [
              "(432449, 784)"
            ]
          },
          "metadata": {
            "tags": []
          },
          "execution_count": 11
        }
      ]
    },
    {
      "cell_type": "markdown",
      "metadata": {
        "id": "9ztm5UFZVfAB"
      },
      "source": [
        "> Till now, the data we had was 1-Dimensional, i.e. a 28x28 picture was flattened into 784 pixels.\n",
        "\n",
        "> Let's now reshape our data into 28x28 images!"
      ]
    },
    {
      "cell_type": "markdown",
      "metadata": {
        "id": "Lf2GxCd2VfAB"
      },
      "source": [
        "### Reshaping the data"
      ]
    },
    {
      "cell_type": "code",
      "metadata": {
        "id": "7bZaQeFgVfAB",
        "outputId": "0e34795d-334b-450f-d25d-ff4f684d3ce8"
      },
      "source": [
        "X_reshaped = X.values.astype(\"float32\").reshape(X.shape[0], 28, 28)\n",
        "y_int = y.values.astype(\"int32\")\n",
        "print(X.shape, \"***\", X_reshaped.shape)"
      ],
      "execution_count": null,
      "outputs": [
        {
          "output_type": "stream",
          "text": [
            "(432449, 784) *** (432449, 28, 28)\n"
          ],
          "name": "stdout"
        }
      ]
    },
    {
      "cell_type": "markdown",
      "metadata": {
        "id": "PFdYFKOOVfAC"
      },
      "source": [
        "> Let's now split the data into train and test data with a ratio of 7:3 and stratifying the target class.\n",
        "\n",
        "> What stratifying will do is it will maintain the ratio of unique target values in train and test set same."
      ]
    },
    {
      "cell_type": "code",
      "metadata": {
        "id": "OPk4uv2NVfAC"
      },
      "source": [
        "X_reshaped = X_reshaped.reshape(-1, 28, 28, 1)\n",
        "\n",
        "X_train, X_test, y_train, y_test = train_test_split(X_reshaped, y_int, test_size = 0.3, stratify = y)\n",
        "\n",
        "data_to_predict = X_test.reshape(-1, 28, 28)"
      ],
      "execution_count": null,
      "outputs": []
    },
    {
      "cell_type": "markdown",
      "metadata": {
        "id": "T74PMCEoVfAC"
      },
      "source": [
        "> Let's define a function to plot some of the images in a grid with their respective labels.\n",
        "\n",
        "> We will be plotting the images with **gray** cmap, you can try a lot of different too, I would recommend taking a look at \"inferno\"."
      ]
    },
    {
      "cell_type": "code",
      "metadata": {
        "id": "ehs2DyOQVfAD"
      },
      "source": [
        "def plot_grid(pred = False):\n",
        "    fig=plt.figure(figsize=(8, 8))\n",
        "    columns = 3\n",
        "    rows = 3\n",
        "    for i in range(1, columns*rows +1):\n",
        "        index = np.random.randint(data_to_predict.shape[0])\n",
        "        fig.add_subplot(rows, columns, i)\n",
        "        plt.imshow(data_to_predict[index], cmap = plt.get_cmap(\"gray\"))\n",
        "        plt.xticks([])\n",
        "        plt.yticks([])\n",
        "        plt.xlabel(f\"Label: {y_test[index]}\")\n",
        "    plt.tight_layout()\n",
        "    plt.show()"
      ],
      "execution_count": null,
      "outputs": []
    },
    {
      "cell_type": "markdown",
      "metadata": {
        "id": "2k_MlG5CVfAD"
      },
      "source": [
        "> Let's now take some of the images from the data!"
      ]
    },
    {
      "cell_type": "code",
      "metadata": {
        "id": "UKJmpB5DVfAD",
        "outputId": "c37df06f-c7bd-4ebd-a707-ca21f0bd77e3"
      },
      "source": [
        "plot_grid()"
      ],
      "execution_count": null,
      "outputs": [
        {
          "output_type": "display_data",
          "data": {
            "image/png": "[encoded data removed]",
            "text/plain": [
              "<Figure size 576x576 with 9 Axes>"
            ]
          },
          "metadata": {
            "tags": []
          }
        }
      ]
    },
    {
      "cell_type": "markdown",
      "metadata": {
        "id": "7t6o2DJNVfAD"
      },
      "source": [
        "> They are a bit blurry but that's because of the low quality and figure size set by us too! Although they are very much recognizable."
      ]
    },
    {
      "cell_type": "markdown",
      "metadata": {
        "id": "FmYOMDe0VfAE"
      },
      "source": [
        "> Standardization of Training data with categorization training and test data."
      ]
    },
    {
      "cell_type": "code",
      "metadata": {
        "id": "k67PLj5vVfAE"
      },
      "source": [
        "X_train_mean = X_train.mean().astype(np.float32)\n",
        "X_train_std = X_train.std().astype(np.float32)\n",
        "X_test_mean = X_test.mean().astype(np.float32)\n",
        "X_test_std = X_test.std().astype(np.float32)\n",
        "\n",
        "X_train = (X_train - X_train_mean)/X_train_std\n",
        "X_test = (X_test - X_test_mean)/X_test_std\n",
        "\n",
        "y_train = to_categorical(y_train, num_classes = 36)\n",
        "y_test = to_categorical(y_test, num_classes = 36)"
      ],
      "execution_count": null,
      "outputs": []
    },
    {
      "cell_type": "code",
      "metadata": {
        "id": "wSiPtWFcVfAE",
        "outputId": "2398349d-7369-4e89-a39e-2490c6de7c71"
      },
      "source": [
        "del X_train_mean, X_train_std, df_num, df_alph, X_reshaped, y_int, X, y, X_test_mean, X_test_std, data_to_predict, a, b\n",
        "gc.collect()"
      ],
      "execution_count": null,
      "outputs": [
        {
          "output_type": "execute_result",
          "data": {
            "text/plain": [
              "10844"
            ]
          },
          "metadata": {
            "tags": []
          },
          "execution_count": 17
        }
      ]
    },
    {
      "cell_type": "markdown",
      "metadata": {
        "id": "L8io_SIxVfAE"
      },
      "source": [
        "## Defining the Model"
      ]
    },
    {
      "cell_type": "markdown",
      "metadata": {
        "id": "rxbCGnfBVfAE"
      },
      "source": [
        "> Creating a simple CNN Classifier.\n",
        "\n",
        "> We will be using two blocks of [Conv2D -> Conv2d -> MaxPool2D -> Dropout] one after the another and then a [Flatten -> Dense -> Dropout -> Dense]. That's it."
      ]
    },
    {
      "cell_type": "code",
      "metadata": {
        "id": "7JO1m2iYVfAF",
        "outputId": "2feb1674-9af5-4dbe-b2c5-cf30e0061ff5"
      },
      "source": [
        "# create CNN model for layers\n",
        "input_shape = (28, 28, 1)\n",
        "num_classes = 36\n",
        "\n",
        "model = Sequential()\n",
        "model.add(Conv2D(64, kernel_size = (3, 3), activation = \"relu\", padding = \"Same\", input_shape = input_shape))\n",
        "model.add(Conv2D(64, kernel_size = (3, 3), activation = \"relu\", padding = \"Same\"))\n",
        "model.add(MaxPool2D(pool_size = (3, 3)))\n",
        "model.add(Dropout(0.25))\n",
        "\n",
        "model.add(Conv2D(128, kernel_size = (3, 3), activation = \"relu\", padding = \"Same\"))\n",
        "model.add(Conv2D(128, kernel_size = (3, 3), activation = \"relu\", padding = \"Same\"))\n",
        "model.add(MaxPool2D(pool_size = (3, 3)))\n",
        "model.add(Dropout(0.40))\n",
        "\n",
        "model.add(Flatten())\n",
        "model.add(Dense(150, activation = \"relu\"))\n",
        "model.add(Dropout(0.30))\n",
        "model.add(Dense(36, activation = \"softmax\"))\n",
        "model.summary()"
      ],
      "execution_count": null,
      "outputs": [
        {
          "output_type": "stream",
          "text": [
            "Model: \"sequential_1\"\n",
            "_________________________________________________________________\n",
            "Layer (type)                 Output Shape              Param #   \n",
            "=================================================================\n",
            "conv2d_1 (Conv2D)            (None, 28, 28, 64)        640       \n",
            "_________________________________________________________________\n",
            "conv2d_2 (Conv2D)            (None, 28, 28, 64)        36928     \n",
            "_________________________________________________________________\n",
            "max_pooling2d_1 (MaxPooling2 (None, 9, 9, 64)          0         \n",
            "_________________________________________________________________\n",
            "dropout_1 (Dropout)          (None, 9, 9, 64)          0         \n",
            "_________________________________________________________________\n",
            "conv2d_3 (Conv2D)            (None, 9, 9, 128)         73856     \n",
            "_________________________________________________________________\n",
            "conv2d_4 (Conv2D)            (None, 9, 9, 128)         147584    \n",
            "_________________________________________________________________\n",
            "max_pooling2d_2 (MaxPooling2 (None, 3, 3, 128)         0         \n",
            "_________________________________________________________________\n",
            "dropout_2 (Dropout)          (None, 3, 3, 128)         0         \n",
            "_________________________________________________________________\n",
            "flatten_1 (Flatten)          (None, 1152)              0         \n",
            "_________________________________________________________________\n",
            "dense_1 (Dense)              (None, 150)               172950    \n",
            "_________________________________________________________________\n",
            "dropout_3 (Dropout)          (None, 150)               0         \n",
            "_________________________________________________________________\n",
            "dense_2 (Dense)              (None, 36)                5436      \n",
            "=================================================================\n",
            "Total params: 437,394\n",
            "Trainable params: 437,394\n",
            "Non-trainable params: 0\n",
            "_________________________________________________________________\n"
          ],
          "name": "stdout"
        }
      ]
    },
    {
      "cell_type": "markdown",
      "metadata": {
        "id": "5QAyOCUsVfAF"
      },
      "source": [
        "> Defining **Adam** optimizer with a learning rate of 5e-4 and no decay."
      ]
    },
    {
      "cell_type": "code",
      "metadata": {
        "id": "xR0f2ThqVfAF"
      },
      "source": [
        "optimizer = Adam(lr = .0005, beta_1 = .9, beta_2 = .999, epsilon = 1e-07, decay = 0, amsgrad = False)"
      ],
      "execution_count": null,
      "outputs": []
    },
    {
      "cell_type": "markdown",
      "metadata": {
        "id": "V43IHw9gVfAF"
      },
      "source": [
        "**Compiling model** and defining **learning rate reduction** parameters"
      ]
    },
    {
      "cell_type": "code",
      "metadata": {
        "id": "GYK0f13eVfAG"
      },
      "source": [
        "# Compile the model\n",
        "model.compile(optimizer = optimizer, loss = \"categorical_crossentropy\", metrics = [\"categorical_accuracy\", tf.keras.metrics.AUC()])\n",
        "\n",
        "# learning rate annealer\n",
        "learning_rate_reduction = ReduceLROnPlateau(monitor = 'val_acc', patience = 3, verbose = 1, factor = .5, min_lr = .00001)\n",
        "\n",
        "# EarlyStopping\n",
        "es = EarlyStopping(monitor='val_categorical_accuracy', patience = 4)"
      ],
      "execution_count": null,
      "outputs": []
    },
    {
      "cell_type": "markdown",
      "metadata": {
        "id": "ZeEQw2NzVfAG"
      },
      "source": [
        "> We will train this now for 80 epochs, since previously, when we trained it for 40 epochs, it was still converging, so increasing the number of epochs may get us better results.\n",
        "\n",
        "> Also, we will be using a 128 batch size for this training, i.e. 128 images will the model be trained  upon at a time."
      ]
    },
    {
      "cell_type": "code",
      "metadata": {
        "id": "UJPj_VRJVfAG"
      },
      "source": [
        "epochs = 80\n",
        "batch_size = 128"
      ],
      "execution_count": null,
      "outputs": []
    },
    {
      "cell_type": "markdown",
      "metadata": {
        "id": "tz7YJ1gkVfAG"
      },
      "source": [
        "> Data Augmentation\n",
        "\n",
        "> In data augmentation, we are going to do some modifications on the images like rotation, zoom, width shift, height shift and horizontal flip. Also, one must note that doing a vertical flip may be disastrous in some cases, for example, 6 will become 9 and vice versa."
      ]
    },
    {
      "cell_type": "code",
      "metadata": {
        "id": "laoheBgBVfAG"
      },
      "source": [
        "# Data Augmentation\n",
        "datagen = ImageDataGenerator(featurewise_center = False, samplewise_center = False, \n",
        "                            featurewise_std_normalization = False, samplewise_std_normalization = False,\n",
        "                            zca_whitening = False, rotation_range = 10, zoom_range = .1, \n",
        "                            width_shift_range = .1, height_shift_range = .1, horizontal_flip = True, \n",
        "                            vertical_flip = False)\n",
        "train_batches = datagen.flow(X_train, y_train, batch_size = batch_size)\n",
        "val_batches = datagen.flow(X_test, y_test, batch_size = batch_size)"
      ],
      "execution_count": null,
      "outputs": []
    },
    {
      "cell_type": "markdown",
      "metadata": {
        "id": "5UNCyLJaVfAH"
      },
      "source": [
        "## Training + Cross Validation"
      ]
    },
    {
      "cell_type": "code",
      "metadata": {
        "id": "qXQCwi5rVfAH"
      },
      "source": [
        "# Fitting the model\n",
        "history = model.fit_generator(generator = train_batches, steps_per_epoch = train_batches.n//batch_size, epochs=epochs, \n",
        "                    validation_data = val_batches, validation_steps = val_batches.n//batch_size, verbose = 0,\n",
        "                    callbacks = [learning_rate_reduction, es])"
      ],
      "execution_count": null,
      "outputs": []
    },
    {
      "cell_type": "markdown",
      "metadata": {
        "id": "9OTi4Ry3VfAH"
      },
      "source": [
        "> Let's now Save the model for future use."
      ]
    },
    {
      "cell_type": "code",
      "metadata": {
        "id": "W0XXno2PVfAH"
      },
      "source": [
        "model.save(\"model_0-10_a-z.h5\")"
      ],
      "execution_count": null,
      "outputs": []
    },
    {
      "cell_type": "markdown",
      "metadata": {
        "id": "8eBFlC5_VfAI"
      },
      "source": [
        "## Analysing trends in Accuracy and AUC"
      ]
    },
    {
      "cell_type": "markdown",
      "metadata": {
        "id": "w6piWS7HVfAI"
      },
      "source": [
        "Let's see the number of epochs our model run for."
      ]
    },
    {
      "cell_type": "code",
      "metadata": {
        "id": "0poukhWXVfAI",
        "outputId": "bf477e5f-1f51-4ed6-da5e-19fb544ca6ef"
      },
      "source": [
        "print(f\"Total number of epochs for which the model trained: {len(history.history['loss'])}\")"
      ],
      "execution_count": null,
      "outputs": [
        {
          "output_type": "stream",
          "text": [
            "Total number of epochs for which the model trained: 33\n"
          ],
          "name": "stdout"
        }
      ]
    },
    {
      "cell_type": "markdown",
      "metadata": {
        "id": "-a3RT3GuVfAI"
      },
      "source": [
        "> Why not just plot the training and validation accuracy against each other, it will help us gain a lot of information about the training, like where our model stops learning, starts overfitting etc."
      ]
    },
    {
      "cell_type": "code",
      "metadata": {
        "id": "LYrgchPDVfAI",
        "outputId": "8abc35bd-5d06-450b-cac5-383ad6349150"
      },
      "source": [
        "plt.rcParams['figure.figsize'] = [10, 8]\n",
        "plt.plot(history.history['categorical_accuracy'], \"b--\")\n",
        "plt.plot(history.history['val_categorical_accuracy'], \"r-\")\n",
        "plt.title(\"Training vs Validation accuracy\")\n",
        "plt.legend([\"Training\", \"Validation\"])\n",
        "plt.xlabel(\"Epochs\")\n",
        "plt.ylabel(\"Accuracy\")"
      ],
      "execution_count": null,
      "outputs": [
        {
          "output_type": "execute_result",
          "data": {
            "text/plain": [
              "Text(0, 0.5, 'Accuracy')"
            ]
          },
          "metadata": {
            "tags": []
          },
          "execution_count": 26
        },
        {
          "output_type": "display_data",
          "data": {
            "image/png": "[encoded data removed]",
            "text/plain": [
              "<Figure size 720x576 with 1 Axes>"
            ]
          },
          "metadata": {
            "tags": [],
            "needs_background": "light"
          }
        }
      ]
    },
    {
      "cell_type": "code",
      "metadata": {
        "id": "OZOb7_7vVfAJ",
        "outputId": "9b667fe9-3954-46a6-b357-75d84e759391"
      },
      "source": [
        "print(f\"Maximum Training Accuracy: {max(history.history['categorical_accuracy'])}, Maximum Validation Accuracy: {max(history.history['val_categorical_accuracy'])}\")"
      ],
      "execution_count": null,
      "outputs": [
        {
          "output_type": "stream",
          "text": [
            "Maximum Training Accuracy: 0.9525192975997925, Maximum Validation Accuracy: 0.964708685874939\n"
          ],
          "name": "stdout"
        }
      ]
    },
    {
      "cell_type": "markdown",
      "metadata": {
        "id": "x73OQ0ZcVfAJ"
      },
      "source": [
        "> Also, let's plot AUC scores for training and validation too!"
      ]
    },
    {
      "cell_type": "code",
      "metadata": {
        "id": "kzbzn6nzVfAJ",
        "outputId": "edda68e2-2d05-45d7-8038-d7916899b4ff"
      },
      "source": [
        "plt.rcParams['figure.figsize'] = [10, 8]\n",
        "plt.plot(history.history['auc'], \"b--\")\n",
        "plt.plot(history.history['val_auc'], \"r-\")\n",
        "plt.title(\"Training vs Validation AUC score\")\n",
        "plt.legend([\"Training\", \"Validation\"])\n",
        "plt.xlabel(\"Epochs\")\n",
        "plt.ylabel(\"AUC score\")"
      ],
      "execution_count": null,
      "outputs": [
        {
          "output_type": "execute_result",
          "data": {
            "text/plain": [
              "Text(0, 0.5, 'AUC score')"
            ]
          },
          "metadata": {
            "tags": []
          },
          "execution_count": 28
        },
        {
          "output_type": "display_data",
          "data": {
            "image/png": "[encoded data removed]",
            "text/plain": [
              "<Figure size 720x576 with 1 Axes>"
            ]
          },
          "metadata": {
            "tags": [],
            "needs_background": "light"
          }
        }
      ]
    },
    {
      "cell_type": "code",
      "metadata": {
        "id": "eV7wbn6BVfAJ",
        "outputId": "17a93f48-4596-476d-ea2e-a84c0514e144"
      },
      "source": [
        "print(f\"Maximum Training AUC: {max(history.history['auc'])}, Maximum Validation AUC: {max(history.history['val_auc'])}\")"
      ],
      "execution_count": null,
      "outputs": [
        {
          "output_type": "stream",
          "text": [
            "Maximum Training AUC: 0.9976378083229065, Maximum Validation AUC: 0.997622549533844\n"
          ],
          "name": "stdout"
        }
      ]
    },
    {
      "cell_type": "markdown",
      "metadata": {
        "id": "uqQvpE6QVfAK"
      },
      "source": [
        "Let's now the see the loss curve for both training and validation!"
      ]
    },
    {
      "cell_type": "code",
      "metadata": {
        "id": "FjjeN_TNVfAK",
        "outputId": "6a7052c6-fd85-4df5-853e-7d83aec69d35"
      },
      "source": [
        "plt.rcParams['figure.figsize'] = [10, 8]\n",
        "plt.plot(history.history['loss'], \"b--\")\n",
        "plt.plot(history.history['val_loss'], \"r-\")\n",
        "plt.title(\"Training vs Validation Loss\")\n",
        "plt.legend([\"Training\", \"Validation\"])\n",
        "plt.xlabel(\"Epochs\")\n",
        "plt.ylabel(\"Loss value\")"
      ],
      "execution_count": null,
      "outputs": [
        {
          "output_type": "execute_result",
          "data": {
            "text/plain": [
              "Text(0, 0.5, 'Loss value')"
            ]
          },
          "metadata": {
            "tags": []
          },
          "execution_count": 30
        },
        {
          "output_type": "display_data",
          "data": {
            "image/png": "[encoded data removed]",
            "text/plain": [
              "<Figure size 720x576 with 1 Axes>"
            ]
          },
          "metadata": {
            "tags": [],
            "needs_background": "light"
          }
        }
      ]
    },
    {
      "cell_type": "markdown",
      "metadata": {
        "id": "UWcXW4STVfAK"
      },
      "source": [
        "> Woah, You reached the end of it!\n",
        "\n",
        "> Hope you find reading this work worrthwhile. Please share your thoughts in the comment.\n",
        "\n",
        "> Thanks for reading and Until next time! :)"
      ]
    }
  ]
}